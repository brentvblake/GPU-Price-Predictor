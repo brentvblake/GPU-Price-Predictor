{
 "cells": [
  {
   "cell_type": "code",
   "execution_count": 181,
   "id": "7e8b25cd",
   "metadata": {},
   "outputs": [],
   "source": [
    "import pandas as pd\n",
    "import matplotlib.pyplot as plt\n",
    "import numpy as np\n",
    "from selenium import webdriver\n",
    "from bs4 import BeautifulSoup\n",
    "from sklearn import linear_model"
   ]
  },
  {
   "cell_type": "code",
   "execution_count": 182,
   "id": "26454ef8",
   "metadata": {},
   "outputs": [],
   "source": [
    "driver = webdriver.Chrome(\"C:/Users/brent/Documents/chrome driver/chromedriver.exe\")"
   ]
  },
  {
   "cell_type": "code",
   "execution_count": 183,
   "id": "e813c8cb",
   "metadata": {},
   "outputs": [],
   "source": [
    "name = []\n",
    "memory = []\n",
    "base_clock = []\n",
    "clock_speed = []\n",
    "price = []\n",
    "driver.get(\"https://pcbuilder.net/product/graphics-card/\")"
   ]
  },
  {
   "cell_type": "code",
   "execution_count": 184,
   "id": "e132853e",
   "metadata": {},
   "outputs": [],
   "source": [
    "content = driver.page_source\n",
    "soup = BeautifulSoup(content)"
   ]
  },
  {
   "cell_type": "code",
   "execution_count": 185,
   "id": "4ba7ad2a",
   "metadata": {},
   "outputs": [],
   "source": [
    "for tr in soup.findAll('tr', attrs={'class':'items'}):\n",
    "    tName = tr.find('div', attrs={'class':'table_title'})\n",
    "    tMemory = tr.find('div', attrs={'class':'detail__value f_memory'})\n",
    "    tBase = tr.find('div', attrs={'class':'detail__value f_base_clock'})\n",
    "    tClock = tr.find('div', attrs={'class':'detail__value f_clock_speed'})\n",
    "    tPrice = tr.find('td', attrs={'class':'price'})\n",
    "    \n",
    "    name.append(tName.text)\n",
    "    memory.append(tMemory.text)\n",
    "    base_clock.append(tBase.text)\n",
    "    clock_speed.append(tClock.text)\n",
    "    price.append(tPrice.text)"
   ]
  },
  {
   "cell_type": "code",
   "execution_count": 186,
   "id": "bdc975c2",
   "metadata": {},
   "outputs": [
    {
     "data": {
      "text/html": [
       "<div>\n",
       "<style scoped>\n",
       "    .dataframe tbody tr th:only-of-type {\n",
       "        vertical-align: middle;\n",
       "    }\n",
       "\n",
       "    .dataframe tbody tr th {\n",
       "        vertical-align: top;\n",
       "    }\n",
       "\n",
       "    .dataframe thead th {\n",
       "        text-align: right;\n",
       "    }\n",
       "</style>\n",
       "<table border=\"1\" class=\"dataframe\">\n",
       "  <thead>\n",
       "    <tr style=\"text-align: right;\">\n",
       "      <th></th>\n",
       "      <th>name</th>\n",
       "      <th>price</th>\n",
       "      <th>memory</th>\n",
       "      <th>base_clock</th>\n",
       "      <th>clock_speed</th>\n",
       "    </tr>\n",
       "  </thead>\n",
       "  <tbody>\n",
       "    <tr>\n",
       "      <th>0</th>\n",
       "      <td>MSI Gaming GeForce RTX 4090 24GB GDRR6X 384-Bi...</td>\n",
       "      <td>\\n$2,299.99</td>\n",
       "      <td>24 GB</td>\n",
       "      <td>2235 MHz</td>\n",
       "      <td>2535 MHz</td>\n",
       "    </tr>\n",
       "    <tr>\n",
       "      <th>1</th>\n",
       "      <td>GIGABYTE GeForce RTX 4090 WINDFORCE 24G Graphi...</td>\n",
       "      <td>\\n$2,129.99</td>\n",
       "      <td>24 GB</td>\n",
       "      <td>2235 MHz</td>\n",
       "      <td>2520 MHz</td>\n",
       "    </tr>\n",
       "    <tr>\n",
       "      <th>2</th>\n",
       "      <td>NVIDIA GeForce RTX 4090 Founders Edition Graph...</td>\n",
       "      <td>\\n$2,344.99</td>\n",
       "      <td>24 GB</td>\n",
       "      <td>2230 MHz</td>\n",
       "      <td>2520 MHz</td>\n",
       "    </tr>\n",
       "    <tr>\n",
       "      <th>3</th>\n",
       "      <td>MSI Gaming GeForce RTX 4090 24GB GDRR6X 384-Bi...</td>\n",
       "      <td>\\n$2,679.98</td>\n",
       "      <td>24 GB</td>\n",
       "      <td>2235 MHz</td>\n",
       "      <td>2535 MHz</td>\n",
       "    </tr>\n",
       "    <tr>\n",
       "      <th>4</th>\n",
       "      <td>GIGABYTE GeForce RTX 4090 Gaming OC 24G Graphi...</td>\n",
       "      <td>\\n$2,399</td>\n",
       "      <td>24 GB</td>\n",
       "      <td>2235 MHz</td>\n",
       "      <td>2535 MHz</td>\n",
       "    </tr>\n",
       "    <tr>\n",
       "      <th>...</th>\n",
       "      <td>...</td>\n",
       "      <td>...</td>\n",
       "      <td>...</td>\n",
       "      <td>...</td>\n",
       "      <td>...</td>\n",
       "    </tr>\n",
       "    <tr>\n",
       "      <th>494</th>\n",
       "      <td>Diamond Multimedia AMD Radeon HD 5450 PCI Expr...</td>\n",
       "      <td>\\n$54.99</td>\n",
       "      <td>1 GB</td>\n",
       "      <td>650 MHz</td>\n",
       "      <td>1000 MHz</td>\n",
       "    </tr>\n",
       "    <tr>\n",
       "      <th>495</th>\n",
       "      <td>VisionTek Radeon 5450 2GB DDR3 (DVI-I, HDMI, V...</td>\n",
       "      <td>\\n$59.62</td>\n",
       "      <td>2 GB</td>\n",
       "      <td>650 MHz</td>\n",
       "      <td>1000 MHz</td>\n",
       "    </tr>\n",
       "    <tr>\n",
       "      <th>496</th>\n",
       "      <td>HIS ATI Radeon HD5450 Silence 1 GB DDR3 VGA/ D...</td>\n",
       "      <td>\\n$128.68 (Used)</td>\n",
       "      <td>1 GB</td>\n",
       "      <td>650 MHz</td>\n",
       "      <td>1000 MHz</td>\n",
       "    </tr>\n",
       "    <tr>\n",
       "      <th>497</th>\n",
       "      <td>PowerColor ATI Radeon HD5450 1 GB DDR3 VGA/DVI...</td>\n",
       "      <td>\\n$99.99</td>\n",
       "      <td>1 GB</td>\n",
       "      <td>650 MHz</td>\n",
       "      <td>1100 MHz</td>\n",
       "    </tr>\n",
       "    <tr>\n",
       "      <th>498</th>\n",
       "      <td>PowerColor ATI Radeon HD5450 512 MB DDR3 VGA/D...</td>\n",
       "      <td>\\n$64.95</td>\n",
       "      <td>0.5 GB</td>\n",
       "      <td>650 MHz</td>\n",
       "      <td>1000 MHz</td>\n",
       "    </tr>\n",
       "  </tbody>\n",
       "</table>\n",
       "<p>499 rows × 5 columns</p>\n",
       "</div>"
      ],
      "text/plain": [
       "                                                  name              price  \\\n",
       "0    MSI Gaming GeForce RTX 4090 24GB GDRR6X 384-Bi...       \\n$2,299.99    \n",
       "1    GIGABYTE GeForce RTX 4090 WINDFORCE 24G Graphi...       \\n$2,129.99    \n",
       "2    NVIDIA GeForce RTX 4090 Founders Edition Graph...       \\n$2,344.99    \n",
       "3    MSI Gaming GeForce RTX 4090 24GB GDRR6X 384-Bi...       \\n$2,679.98    \n",
       "4    GIGABYTE GeForce RTX 4090 Gaming OC 24G Graphi...          \\n$2,399    \n",
       "..                                                 ...                ...   \n",
       "494  Diamond Multimedia AMD Radeon HD 5450 PCI Expr...          \\n$54.99    \n",
       "495  VisionTek Radeon 5450 2GB DDR3 (DVI-I, HDMI, V...          \\n$59.62    \n",
       "496  HIS ATI Radeon HD5450 Silence 1 GB DDR3 VGA/ D...  \\n$128.68 (Used)    \n",
       "497  PowerColor ATI Radeon HD5450 1 GB DDR3 VGA/DVI...          \\n$99.99    \n",
       "498  PowerColor ATI Radeon HD5450 512 MB DDR3 VGA/D...          \\n$64.95    \n",
       "\n",
       "       memory  base_clock clock_speed  \n",
       "0      24 GB    2235 MHz    2535 MHz   \n",
       "1      24 GB    2235 MHz    2520 MHz   \n",
       "2      24 GB    2230 MHz    2520 MHz   \n",
       "3      24 GB    2235 MHz    2535 MHz   \n",
       "4      24 GB    2235 MHz    2535 MHz   \n",
       "..        ...         ...         ...  \n",
       "494     1 GB     650 MHz    1000 MHz   \n",
       "495     2 GB     650 MHz    1000 MHz   \n",
       "496     1 GB     650 MHz    1000 MHz   \n",
       "497     1 GB     650 MHz    1100 MHz   \n",
       "498   0.5 GB     650 MHz    1000 MHz   \n",
       "\n",
       "[499 rows x 5 columns]"
      ]
     },
     "execution_count": 186,
     "metadata": {},
     "output_type": "execute_result"
    }
   ],
   "source": [
    "df = pd.DataFrame({'name':name,'price':price,'memory':memory,'base_clock':base_clock,'clock_speed':clock_speed})\n",
    "df"
   ]
  },
  {
   "cell_type": "code",
   "execution_count": 187,
   "id": "b5888f98",
   "metadata": {},
   "outputs": [
    {
     "name": "stderr",
     "output_type": "stream",
     "text": [
      "C:\\Users\\brent\\AppData\\Local\\Temp/ipykernel_9656/1754012272.py:2: FutureWarning: The default value of regex will change from True to False in a future version. In addition, single character regular expressions will *not* be treated as literal strings when regex=True.\n",
      "  df['price'] = df['price'].str.replace('$', '')\n",
      "C:\\Users\\brent\\AppData\\Local\\Temp/ipykernel_9656/1754012272.py:6: FutureWarning: The default value of regex will change from True to False in a future version. In addition, single character regular expressions will *not* be treated as literal strings when regex=True.\n",
      "  df['price'] = df['price'].str.replace('(', '')\n",
      "C:\\Users\\brent\\AppData\\Local\\Temp/ipykernel_9656/1754012272.py:7: FutureWarning: The default value of regex will change from True to False in a future version. In addition, single character regular expressions will *not* be treated as literal strings when regex=True.\n",
      "  df['price'] = df['price'].str.replace(')', '')\n",
      "C:\\Users\\brent\\AppData\\Local\\Temp/ipykernel_9656/1754012272.py:9: SettingWithCopyWarning: \n",
      "A value is trying to be set on a copy of a slice from a DataFrame.\n",
      "Try using .loc[row_indexer,col_indexer] = value instead\n",
      "\n",
      "See the caveats in the documentation: https://pandas.pydata.org/pandas-docs/stable/user_guide/indexing.html#returning-a-view-versus-a-copy\n",
      "  df['price'] = df['price'].astype('float')\n"
     ]
    },
    {
     "data": {
      "text/html": [
       "<div>\n",
       "<style scoped>\n",
       "    .dataframe tbody tr th:only-of-type {\n",
       "        vertical-align: middle;\n",
       "    }\n",
       "\n",
       "    .dataframe tbody tr th {\n",
       "        vertical-align: top;\n",
       "    }\n",
       "\n",
       "    .dataframe thead th {\n",
       "        text-align: right;\n",
       "    }\n",
       "</style>\n",
       "<table border=\"1\" class=\"dataframe\">\n",
       "  <thead>\n",
       "    <tr style=\"text-align: right;\">\n",
       "      <th></th>\n",
       "      <th>name</th>\n",
       "      <th>price</th>\n",
       "      <th>memory</th>\n",
       "      <th>base_clock</th>\n",
       "      <th>clock_speed</th>\n",
       "    </tr>\n",
       "  </thead>\n",
       "  <tbody>\n",
       "    <tr>\n",
       "      <th>0</th>\n",
       "      <td>MSI Gaming GeForce RTX 4090 24GB GDRR6X 384-Bi...</td>\n",
       "      <td>2299.99</td>\n",
       "      <td>24 GB</td>\n",
       "      <td>2235 MHz</td>\n",
       "      <td>2535 MHz</td>\n",
       "    </tr>\n",
       "    <tr>\n",
       "      <th>1</th>\n",
       "      <td>GIGABYTE GeForce RTX 4090 WINDFORCE 24G Graphi...</td>\n",
       "      <td>2129.99</td>\n",
       "      <td>24 GB</td>\n",
       "      <td>2235 MHz</td>\n",
       "      <td>2520 MHz</td>\n",
       "    </tr>\n",
       "    <tr>\n",
       "      <th>2</th>\n",
       "      <td>NVIDIA GeForce RTX 4090 Founders Edition Graph...</td>\n",
       "      <td>2344.99</td>\n",
       "      <td>24 GB</td>\n",
       "      <td>2230 MHz</td>\n",
       "      <td>2520 MHz</td>\n",
       "    </tr>\n",
       "    <tr>\n",
       "      <th>3</th>\n",
       "      <td>MSI Gaming GeForce RTX 4090 24GB GDRR6X 384-Bi...</td>\n",
       "      <td>2679.98</td>\n",
       "      <td>24 GB</td>\n",
       "      <td>2235 MHz</td>\n",
       "      <td>2535 MHz</td>\n",
       "    </tr>\n",
       "    <tr>\n",
       "      <th>4</th>\n",
       "      <td>GIGABYTE GeForce RTX 4090 Gaming OC 24G Graphi...</td>\n",
       "      <td>2399.00</td>\n",
       "      <td>24 GB</td>\n",
       "      <td>2235 MHz</td>\n",
       "      <td>2535 MHz</td>\n",
       "    </tr>\n",
       "  </tbody>\n",
       "</table>\n",
       "</div>"
      ],
      "text/plain": [
       "                                                name    price   memory  \\\n",
       "0  MSI Gaming GeForce RTX 4090 24GB GDRR6X 384-Bi...  2299.99   24 GB    \n",
       "1  GIGABYTE GeForce RTX 4090 WINDFORCE 24G Graphi...  2129.99   24 GB    \n",
       "2  NVIDIA GeForce RTX 4090 Founders Edition Graph...  2344.99   24 GB    \n",
       "3  MSI Gaming GeForce RTX 4090 24GB GDRR6X 384-Bi...  2679.98   24 GB    \n",
       "4  GIGABYTE GeForce RTX 4090 Gaming OC 24G Graphi...  2399.00   24 GB    \n",
       "\n",
       "   base_clock clock_speed  \n",
       "0   2235 MHz    2535 MHz   \n",
       "1   2235 MHz    2520 MHz   \n",
       "2   2230 MHz    2520 MHz   \n",
       "3   2235 MHz    2535 MHz   \n",
       "4   2235 MHz    2535 MHz   "
      ]
     },
     "execution_count": 187,
     "metadata": {},
     "output_type": "execute_result"
    }
   ],
   "source": [
    "df['price'] = df['price'].str.replace(',', '')\n",
    "df['price'] = df['price'].str.replace('$', '')\n",
    "df['price'] = df['price'].str.replace('\\n', '')\n",
    "df['price'] = df['price'].str.replace(' ', '')\n",
    "df['price'] = df['price'].str.replace('Used', '')\n",
    "df['price'] = df['price'].str.replace('(', '')\n",
    "df['price'] = df['price'].str.replace(')', '')\n",
    "df = df[df[\"price\"].str.contains(\"N/A\") == False]\n",
    "df['price'] = df['price'].astype('float')\n",
    "df.head()\n"
   ]
  },
  {
   "cell_type": "code",
   "execution_count": 188,
   "id": "23de004f",
   "metadata": {},
   "outputs": [
    {
     "name": "stderr",
     "output_type": "stream",
     "text": [
      "C:\\Users\\brent\\AppData\\Local\\Temp/ipykernel_9656/668077995.py:1: SettingWithCopyWarning: \n",
      "A value is trying to be set on a copy of a slice from a DataFrame.\n",
      "Try using .loc[row_indexer,col_indexer] = value instead\n",
      "\n",
      "See the caveats in the documentation: https://pandas.pydata.org/pandas-docs/stable/user_guide/indexing.html#returning-a-view-versus-a-copy\n",
      "  df['memory'] = df['memory'].str.replace(' ', '')\n",
      "C:\\Users\\brent\\AppData\\Local\\Temp/ipykernel_9656/668077995.py:2: SettingWithCopyWarning: \n",
      "A value is trying to be set on a copy of a slice from a DataFrame.\n",
      "Try using .loc[row_indexer,col_indexer] = value instead\n",
      "\n",
      "See the caveats in the documentation: https://pandas.pydata.org/pandas-docs/stable/user_guide/indexing.html#returning-a-view-versus-a-copy\n",
      "  df['memory'] = df['memory'].str.replace('GB', '')\n",
      "C:\\Users\\brent\\AppData\\Local\\Temp/ipykernel_9656/668077995.py:3: SettingWithCopyWarning: \n",
      "A value is trying to be set on a copy of a slice from a DataFrame.\n",
      "Try using .loc[row_indexer,col_indexer] = value instead\n",
      "\n",
      "See the caveats in the documentation: https://pandas.pydata.org/pandas-docs/stable/user_guide/indexing.html#returning-a-view-versus-a-copy\n",
      "  df['memory'] = df['memory'].astype('float')\n",
      "C:\\Users\\brent\\AppData\\Local\\Temp/ipykernel_9656/668077995.py:5: SettingWithCopyWarning: \n",
      "A value is trying to be set on a copy of a slice from a DataFrame.\n",
      "Try using .loc[row_indexer,col_indexer] = value instead\n",
      "\n",
      "See the caveats in the documentation: https://pandas.pydata.org/pandas-docs/stable/user_guide/indexing.html#returning-a-view-versus-a-copy\n",
      "  df['base_clock'] = df['base_clock'].str.replace('MHz', '')\n",
      "C:\\Users\\brent\\AppData\\Local\\Temp/ipykernel_9656/668077995.py:6: SettingWithCopyWarning: \n",
      "A value is trying to be set on a copy of a slice from a DataFrame.\n",
      "Try using .loc[row_indexer,col_indexer] = value instead\n",
      "\n",
      "See the caveats in the documentation: https://pandas.pydata.org/pandas-docs/stable/user_guide/indexing.html#returning-a-view-versus-a-copy\n",
      "  df['base_clock'] = df['base_clock'].str.replace(' ', '')\n",
      "C:\\Users\\brent\\AppData\\Local\\Temp/ipykernel_9656/668077995.py:7: SettingWithCopyWarning: \n",
      "A value is trying to be set on a copy of a slice from a DataFrame.\n",
      "Try using .loc[row_indexer,col_indexer] = value instead\n",
      "\n",
      "See the caveats in the documentation: https://pandas.pydata.org/pandas-docs/stable/user_guide/indexing.html#returning-a-view-versus-a-copy\n",
      "  df['base_clock'] = df['base_clock'].astype('float')\n",
      "C:\\Users\\brent\\AppData\\Local\\Temp/ipykernel_9656/668077995.py:9: SettingWithCopyWarning: \n",
      "A value is trying to be set on a copy of a slice from a DataFrame.\n",
      "Try using .loc[row_indexer,col_indexer] = value instead\n",
      "\n",
      "See the caveats in the documentation: https://pandas.pydata.org/pandas-docs/stable/user_guide/indexing.html#returning-a-view-versus-a-copy\n",
      "  df['clock_speed'] = df['clock_speed'].str.replace('MHz', '')\n",
      "C:\\Users\\brent\\AppData\\Local\\Temp/ipykernel_9656/668077995.py:10: SettingWithCopyWarning: \n",
      "A value is trying to be set on a copy of a slice from a DataFrame.\n",
      "Try using .loc[row_indexer,col_indexer] = value instead\n",
      "\n",
      "See the caveats in the documentation: https://pandas.pydata.org/pandas-docs/stable/user_guide/indexing.html#returning-a-view-versus-a-copy\n",
      "  df['clock_speed'] = df['clock_speed'].str.replace(' ', '')\n",
      "C:\\Users\\brent\\AppData\\Local\\Temp/ipykernel_9656/668077995.py:11: SettingWithCopyWarning: \n",
      "A value is trying to be set on a copy of a slice from a DataFrame.\n",
      "Try using .loc[row_indexer,col_indexer] = value instead\n",
      "\n",
      "See the caveats in the documentation: https://pandas.pydata.org/pandas-docs/stable/user_guide/indexing.html#returning-a-view-versus-a-copy\n",
      "  df['clock_speed'] = df['clock_speed'].astype('float')\n"
     ]
    },
    {
     "data": {
      "text/html": [
       "<div>\n",
       "<style scoped>\n",
       "    .dataframe tbody tr th:only-of-type {\n",
       "        vertical-align: middle;\n",
       "    }\n",
       "\n",
       "    .dataframe tbody tr th {\n",
       "        vertical-align: top;\n",
       "    }\n",
       "\n",
       "    .dataframe thead th {\n",
       "        text-align: right;\n",
       "    }\n",
       "</style>\n",
       "<table border=\"1\" class=\"dataframe\">\n",
       "  <thead>\n",
       "    <tr style=\"text-align: right;\">\n",
       "      <th></th>\n",
       "      <th>name</th>\n",
       "      <th>price</th>\n",
       "      <th>memory</th>\n",
       "      <th>base_clock</th>\n",
       "      <th>clock_speed</th>\n",
       "    </tr>\n",
       "  </thead>\n",
       "  <tbody>\n",
       "    <tr>\n",
       "      <th>0</th>\n",
       "      <td>MSI Gaming GeForce RTX 4090 24GB GDRR6X 384-Bi...</td>\n",
       "      <td>2299.99</td>\n",
       "      <td>24.0</td>\n",
       "      <td>2235.0</td>\n",
       "      <td>2535.0</td>\n",
       "    </tr>\n",
       "    <tr>\n",
       "      <th>1</th>\n",
       "      <td>GIGABYTE GeForce RTX 4090 WINDFORCE 24G Graphi...</td>\n",
       "      <td>2129.99</td>\n",
       "      <td>24.0</td>\n",
       "      <td>2235.0</td>\n",
       "      <td>2520.0</td>\n",
       "    </tr>\n",
       "    <tr>\n",
       "      <th>2</th>\n",
       "      <td>NVIDIA GeForce RTX 4090 Founders Edition Graph...</td>\n",
       "      <td>2344.99</td>\n",
       "      <td>24.0</td>\n",
       "      <td>2230.0</td>\n",
       "      <td>2520.0</td>\n",
       "    </tr>\n",
       "    <tr>\n",
       "      <th>3</th>\n",
       "      <td>MSI Gaming GeForce RTX 4090 24GB GDRR6X 384-Bi...</td>\n",
       "      <td>2679.98</td>\n",
       "      <td>24.0</td>\n",
       "      <td>2235.0</td>\n",
       "      <td>2535.0</td>\n",
       "    </tr>\n",
       "    <tr>\n",
       "      <th>4</th>\n",
       "      <td>GIGABYTE GeForce RTX 4090 Gaming OC 24G Graphi...</td>\n",
       "      <td>2399.00</td>\n",
       "      <td>24.0</td>\n",
       "      <td>2235.0</td>\n",
       "      <td>2535.0</td>\n",
       "    </tr>\n",
       "  </tbody>\n",
       "</table>\n",
       "</div>"
      ],
      "text/plain": [
       "                                                name    price  memory  \\\n",
       "0  MSI Gaming GeForce RTX 4090 24GB GDRR6X 384-Bi...  2299.99    24.0   \n",
       "1  GIGABYTE GeForce RTX 4090 WINDFORCE 24G Graphi...  2129.99    24.0   \n",
       "2  NVIDIA GeForce RTX 4090 Founders Edition Graph...  2344.99    24.0   \n",
       "3  MSI Gaming GeForce RTX 4090 24GB GDRR6X 384-Bi...  2679.98    24.0   \n",
       "4  GIGABYTE GeForce RTX 4090 Gaming OC 24G Graphi...  2399.00    24.0   \n",
       "\n",
       "   base_clock  clock_speed  \n",
       "0      2235.0       2535.0  \n",
       "1      2235.0       2520.0  \n",
       "2      2230.0       2520.0  \n",
       "3      2235.0       2535.0  \n",
       "4      2235.0       2535.0  "
      ]
     },
     "execution_count": 188,
     "metadata": {},
     "output_type": "execute_result"
    }
   ],
   "source": [
    "df['memory'] = df['memory'].str.replace(' ', '')\n",
    "df['memory'] = df['memory'].str.replace('GB', '')\n",
    "df['memory'] = df['memory'].astype('float')\n",
    "\n",
    "df['base_clock'] = df['base_clock'].str.replace('MHz', '')\n",
    "df['base_clock'] = df['base_clock'].str.replace(' ', '')\n",
    "df['base_clock'] = df['base_clock'].astype('float')\n",
    "\n",
    "df['clock_speed'] = df['clock_speed'].str.replace('MHz', '')\n",
    "df['clock_speed'] = df['clock_speed'].str.replace(' ', '')\n",
    "df['clock_speed'] = df['clock_speed'].astype('float')\n",
    "df.head()"
   ]
  },
  {
   "cell_type": "code",
   "execution_count": 189,
   "id": "6dbaee42",
   "metadata": {},
   "outputs": [
    {
     "name": "stderr",
     "output_type": "stream",
     "text": [
      "C:\\Users\\brent\\anaconda3\\lib\\site-packages\\pandas\\util\\_decorators.py:311: SettingWithCopyWarning: \n",
      "A value is trying to be set on a copy of a slice from a DataFrame\n",
      "\n",
      "See the caveats in the documentation: https://pandas.pydata.org/pandas-docs/stable/user_guide/indexing.html#returning-a-view-versus-a-copy\n",
      "  return func(*args, **kwargs)\n"
     ]
    },
    {
     "data": {
      "text/html": [
       "<div>\n",
       "<style scoped>\n",
       "    .dataframe tbody tr th:only-of-type {\n",
       "        vertical-align: middle;\n",
       "    }\n",
       "\n",
       "    .dataframe tbody tr th {\n",
       "        vertical-align: top;\n",
       "    }\n",
       "\n",
       "    .dataframe thead th {\n",
       "        text-align: right;\n",
       "    }\n",
       "</style>\n",
       "<table border=\"1\" class=\"dataframe\">\n",
       "  <thead>\n",
       "    <tr style=\"text-align: right;\">\n",
       "      <th></th>\n",
       "      <th>name</th>\n",
       "      <th>price</th>\n",
       "      <th>memory</th>\n",
       "      <th>base_clock</th>\n",
       "      <th>clock_speed</th>\n",
       "    </tr>\n",
       "  </thead>\n",
       "  <tbody>\n",
       "    <tr>\n",
       "      <th>248</th>\n",
       "      <td>PNY NVIDIA Quadro RTX 8000</td>\n",
       "      <td>5599.99</td>\n",
       "      <td>48.0</td>\n",
       "      <td>1395.0</td>\n",
       "      <td>1770.0</td>\n",
       "    </tr>\n",
       "    <tr>\n",
       "      <th>218</th>\n",
       "      <td>NVIDIA Titan RTX Graphics Card</td>\n",
       "      <td>2900.00</td>\n",
       "      <td>24.0</td>\n",
       "      <td>1350.0</td>\n",
       "      <td>1770.0</td>\n",
       "    </tr>\n",
       "    <tr>\n",
       "      <th>56</th>\n",
       "      <td>Gigabyte 24GB NVIDIA GeForce RTX 3090 Turbo GD...</td>\n",
       "      <td>2799.95</td>\n",
       "      <td>24.0</td>\n",
       "      <td>1395.0</td>\n",
       "      <td>1695.0</td>\n",
       "    </tr>\n",
       "    <tr>\n",
       "      <th>57</th>\n",
       "      <td>EVGA GeForce RTX 3090 K|NGP|N Hybrid Gaming Gr...</td>\n",
       "      <td>2799.00</td>\n",
       "      <td>24.0</td>\n",
       "      <td>1395.0</td>\n",
       "      <td>1920.0</td>\n",
       "    </tr>\n",
       "    <tr>\n",
       "      <th>219</th>\n",
       "      <td>NVIDIA TITAN V VOLTA 12GB HBM2 VIDEO CARD</td>\n",
       "      <td>2799.00</td>\n",
       "      <td>12.0</td>\n",
       "      <td>1200.0</td>\n",
       "      <td>1455.0</td>\n",
       "    </tr>\n",
       "    <tr>\n",
       "      <th>...</th>\n",
       "      <td>...</td>\n",
       "      <td>...</td>\n",
       "      <td>...</td>\n",
       "      <td>...</td>\n",
       "      <td>...</td>\n",
       "    </tr>\n",
       "    <tr>\n",
       "      <th>492</th>\n",
       "      <td>MSI Gaming GeForce GT 710 2GB GDRR3 64-bit HDC...</td>\n",
       "      <td>64.99</td>\n",
       "      <td>2.0</td>\n",
       "      <td>954.0</td>\n",
       "      <td>1600.0</td>\n",
       "    </tr>\n",
       "    <tr>\n",
       "      <th>498</th>\n",
       "      <td>PowerColor ATI Radeon HD5450 512 MB DDR3 VGA/D...</td>\n",
       "      <td>64.95</td>\n",
       "      <td>0.5</td>\n",
       "      <td>650.0</td>\n",
       "      <td>1000.0</td>\n",
       "    </tr>\n",
       "    <tr>\n",
       "      <th>495</th>\n",
       "      <td>VisionTek Radeon 5450 2GB DDR3 (DVI-I, HDMI, V...</td>\n",
       "      <td>59.62</td>\n",
       "      <td>2.0</td>\n",
       "      <td>650.0</td>\n",
       "      <td>1000.0</td>\n",
       "    </tr>\n",
       "    <tr>\n",
       "      <th>494</th>\n",
       "      <td>Diamond Multimedia AMD Radeon HD 5450 PCI Expr...</td>\n",
       "      <td>54.99</td>\n",
       "      <td>1.0</td>\n",
       "      <td>650.0</td>\n",
       "      <td>1000.0</td>\n",
       "    </tr>\n",
       "    <tr>\n",
       "      <th>493</th>\n",
       "      <td>MSI GAMING GeForce GT 710 1GB GDRR3 64-bit HDC...</td>\n",
       "      <td>39.99</td>\n",
       "      <td>1.0</td>\n",
       "      <td>954.0</td>\n",
       "      <td>1000.0</td>\n",
       "    </tr>\n",
       "  </tbody>\n",
       "</table>\n",
       "<p>457 rows × 5 columns</p>\n",
       "</div>"
      ],
      "text/plain": [
       "                                                  name    price  memory  \\\n",
       "248                         PNY NVIDIA Quadro RTX 8000  5599.99    48.0   \n",
       "218                     NVIDIA Titan RTX Graphics Card  2900.00    24.0   \n",
       "56   Gigabyte 24GB NVIDIA GeForce RTX 3090 Turbo GD...  2799.95    24.0   \n",
       "57   EVGA GeForce RTX 3090 K|NGP|N Hybrid Gaming Gr...  2799.00    24.0   \n",
       "219          NVIDIA TITAN V VOLTA 12GB HBM2 VIDEO CARD  2799.00    12.0   \n",
       "..                                                 ...      ...     ...   \n",
       "492  MSI Gaming GeForce GT 710 2GB GDRR3 64-bit HDC...    64.99     2.0   \n",
       "498  PowerColor ATI Radeon HD5450 512 MB DDR3 VGA/D...    64.95     0.5   \n",
       "495  VisionTek Radeon 5450 2GB DDR3 (DVI-I, HDMI, V...    59.62     2.0   \n",
       "494  Diamond Multimedia AMD Radeon HD 5450 PCI Expr...    54.99     1.0   \n",
       "493  MSI GAMING GeForce GT 710 1GB GDRR3 64-bit HDC...    39.99     1.0   \n",
       "\n",
       "     base_clock  clock_speed  \n",
       "248      1395.0       1770.0  \n",
       "218      1350.0       1770.0  \n",
       "56       1395.0       1695.0  \n",
       "57       1395.0       1920.0  \n",
       "219      1200.0       1455.0  \n",
       "..          ...          ...  \n",
       "492       954.0       1600.0  \n",
       "498       650.0       1000.0  \n",
       "495       650.0       1000.0  \n",
       "494       650.0       1000.0  \n",
       "493       954.0       1000.0  \n",
       "\n",
       "[457 rows x 5 columns]"
      ]
     },
     "execution_count": 189,
     "metadata": {},
     "output_type": "execute_result"
    }
   ],
   "source": [
    "df.sort_values(by=['price'], inplace=True, ascending=False)\n",
    "df"
   ]
  },
  {
   "cell_type": "code",
   "execution_count": 190,
   "id": "f7f8db0b",
   "metadata": {},
   "outputs": [
    {
     "data": {
      "text/plain": [
       "LinearRegression()"
      ]
     },
     "execution_count": 190,
     "metadata": {},
     "output_type": "execute_result"
    }
   ],
   "source": [
    "reg = linear_model.LinearRegression()\n",
    "reg.fit(df[['memory','base_clock','clock_speed']],df.price)"
   ]
  },
  {
   "cell_type": "code",
   "execution_count": 191,
   "id": "3eb3cc3a",
   "metadata": {},
   "outputs": [
    {
     "data": {
      "text/plain": [
       "array([ 9.27421433e+01, -2.77844813e-01, -4.38574147e-02])"
      ]
     },
     "execution_count": 191,
     "metadata": {},
     "output_type": "execute_result"
    }
   ],
   "source": [
    "reg.coef_"
   ]
  },
  {
   "cell_type": "code",
   "execution_count": 192,
   "id": "e40ab037",
   "metadata": {},
   "outputs": [
    {
     "data": {
      "text/plain": [
       "364.89826501668426"
      ]
     },
     "execution_count": 192,
     "metadata": {},
     "output_type": "execute_result"
    }
   ],
   "source": [
    "reg.intercept_"
   ]
  },
  {
   "cell_type": "code",
   "execution_count": 193,
   "id": "96411ca6",
   "metadata": {},
   "outputs": [
    {
     "data": {
      "text/plain": [
       "array([1858.54800079])"
      ]
     },
     "execution_count": 193,
     "metadata": {},
     "output_type": "execute_result"
    }
   ],
   "source": [
    "reg.predict([[24,2235,2535]])"
   ]
  },
  {
   "cell_type": "code",
   "execution_count": 194,
   "id": "6d35a59e",
   "metadata": {},
   "outputs": [
    {
     "data": {
      "text/plain": [
       "array([131.98639179])"
      ]
     },
     "execution_count": 194,
     "metadata": {},
     "output_type": "execute_result"
    }
   ],
   "source": [
    "reg.predict([[3,1556,1797]])"
   ]
  },
  {
   "cell_type": "code",
   "execution_count": 211,
   "id": "97c07d3c",
   "metadata": {},
   "outputs": [
    {
     "data": {
      "text/plain": [
       "[<matplotlib.lines.Line2D at 0x236a578a910>]"
      ]
     },
     "execution_count": 211,
     "metadata": {},
     "output_type": "execute_result"
    },
    {
     "data": {
      "image/png": "[encoded data removed]",
      "text/plain": [
       "<Figure size 720x360 with 1 Axes>"
      ]
     },
     "metadata": {
      "needs_background": "light"
     },
     "output_type": "display_data"
    }
   ],
   "source": [
    "a, b = np.polyfit(df.memory, df.price, 1)\n",
    "\n",
    "f = plt.figure()\n",
    "f.set_figwidth(10)\n",
    "f.set_figheight(5)\n",
    "plt.scatter(df[['memory']],df.price, s= 10)\n",
    "plt.xlabel('Memory (GB)')\n",
    "plt.ylabel('Price (US$)')\n",
    "plt.plot(df.memory, a*df.memory+b, c='red')"
   ]
  },
  {
   "cell_type": "code",
   "execution_count": 212,
   "id": "01df812e",
   "metadata": {},
   "outputs": [
    {
     "data": {
      "text/plain": [
       "[<matplotlib.lines.Line2D at 0x236a5935f70>]"
      ]
     },
     "execution_count": 212,
     "metadata": {},
     "output_type": "execute_result"
    },
    {
     "data": {
      "image/png": "[encoded data removed]",
      "text/plain": [
       "<Figure size 720x360 with 1 Axes>"
      ]
     },
     "metadata": {
      "needs_background": "light"
     },
     "output_type": "display_data"
    }
   ],
   "source": [
    "a, b = np.polyfit(df.base_clock, df.price, 1)\n",
    "\n",
    "f = plt.figure()\n",
    "f.set_figwidth(10)\n",
    "f.set_figheight(5)\n",
    "plt.scatter(df[['base_clock']],df.price, s= 10)\n",
    "plt.xlabel('Base Clock Speed (MHz)')\n",
    "plt.ylabel('Price (US$)')\n",
    "plt.plot(df.base_clock, a*df.base_clock+b, c='red')"
   ]
  },
  {
   "cell_type": "code",
   "execution_count": 213,
   "id": "23750779",
   "metadata": {},
   "outputs": [
    {
     "data": {
      "text/plain": [
       "[<matplotlib.lines.Line2D at 0x236a327f3a0>]"
      ]
     },
     "execution_count": 213,
     "metadata": {},
     "output_type": "execute_result"
    },
    {
     "data": {
      "image/png": "[encoded data removed]",
      "text/plain": [
       "<Figure size 720x360 with 1 Axes>"
      ]
     },
     "metadata": {
      "needs_background": "light"
     },
     "output_type": "display_data"
    }
   ],
   "source": [
    "a, b = np.polyfit(df.clock_speed, df.price, 1)\n",
    "\n",
    "f = plt.figure()\n",
    "f.set_figwidth(10)\n",
    "f.set_figheight(5)\n",
    "plt.scatter(df[['clock_speed']],df.price, s= 10)\n",
    "plt.xlabel('Clock Speed (MHz)')\n",
    "plt.ylabel('Price (US$)')\n",
    "plt.plot(df.clock_speed, a*df.clock_speed+b, c='red')"
   ]
  },
  {
   "cell_type": "code",
   "execution_count": null,
   "id": "c532da70",
   "metadata": {},
   "outputs": [],
   "source": []
  }
 ],
 "metadata": {
  "kernelspec": {
   "display_name": "Python 3 (ipykernel)",
   "language": "python",
   "name": "python3"
  },
  "language_info": {
   "codemirror_mode": {
    "name": "ipython",
    "version": 3
   },
   "file_extension": ".py",
   "mimetype": "text/x-python",
   "name": "python",
   "nbconvert_exporter": "python",
   "pygments_lexer": "ipython3",
   "version": "3.9.7"
  }
 },
 "nbformat": 4,
 "nbformat_minor": 5
}
